{
  "nbformat": 4,
  "nbformat_minor": 0,
  "metadata": {
    "colab": {
      "name": "Copy of SciBert",
      "provenance": [],
      "collapsed_sections": [],
      "toc_visible": true
    },
    "kernelspec": {
      "name": "python3",
      "display_name": "Python 3"
    },
    "accelerator": "GPU",
    "widgets": {
      "application/vnd.jupyter.widget-state+json": {
        "04882fecdabd43648ee7637b18951bb0": {
          "model_module": "@jupyter-widgets/controls",
          "model_name": "HBoxModel",
          "state": {
            "_view_name": "HBoxView",
            "_dom_classes": [],
            "_model_name": "HBoxModel",
            "_view_module": "@jupyter-widgets/controls",
            "_model_module_version": "1.5.0",
            "_view_count": null,
            "_view_module_version": "1.5.0",
            "box_style": "",
            "layout": "IPY_MODEL_e4d225b8456c42efb146c132ec26791b",
            "_model_module": "@jupyter-widgets/controls",
            "children": [
              "IPY_MODEL_8b07834b567b479dbda30e80d50bb579",
              "IPY_MODEL_fab4d5120edb4d5b8d05488f3de775b6"
            ]
          }
        },
        "e4d225b8456c42efb146c132ec26791b": {
          "model_module": "@jupyter-widgets/base",
          "model_name": "LayoutModel",
          "state": {
            "_view_name": "LayoutView",
            "grid_template_rows": null,
            "right": null,
            "justify_content": null,
            "_view_module": "@jupyter-widgets/base",
            "overflow": null,
            "_model_module_version": "1.2.0",
            "_view_count": null,
            "flex_flow": null,
            "width": null,
            "min_width": null,
            "border": null,
            "align_items": null,
            "bottom": null,
            "_model_module": "@jupyter-widgets/base",
            "top": null,
            "grid_column": null,
            "overflow_y": null,
            "overflow_x": null,
            "grid_auto_flow": null,
            "grid_area": null,
            "grid_template_columns": null,
            "flex": null,
            "_model_name": "LayoutModel",
            "justify_items": null,
            "grid_row": null,
            "max_height": null,
            "align_content": null,
            "visibility": null,
            "align_self": null,
            "height": null,
            "min_height": null,
            "padding": null,
            "grid_auto_rows": null,
            "grid_gap": null,
            "max_width": null,
            "order": null,
            "_view_module_version": "1.2.0",
            "grid_template_areas": null,
            "object_position": null,
            "object_fit": null,
            "grid_auto_columns": null,
            "margin": null,
            "display": null,
            "left": null
          }
        },
        "8b07834b567b479dbda30e80d50bb579": {
          "model_module": "@jupyter-widgets/controls",
          "model_name": "FloatProgressModel",
          "state": {
            "_view_name": "ProgressView",
            "style": "IPY_MODEL_7911c244694d4002ab74811aae4099c9",
            "_dom_classes": [],
            "description": "Downloading: 100%",
            "_model_name": "FloatProgressModel",
            "bar_style": "success",
            "max": 385,
            "_view_module": "@jupyter-widgets/controls",
            "_model_module_version": "1.5.0",
            "value": 385,
            "_view_count": null,
            "_view_module_version": "1.5.0",
            "orientation": "horizontal",
            "min": 0,
            "description_tooltip": null,
            "_model_module": "@jupyter-widgets/controls",
            "layout": "IPY_MODEL_4bbd9cf647c844f190c12f17ad3cd53e"
          }
        },
        "fab4d5120edb4d5b8d05488f3de775b6": {
          "model_module": "@jupyter-widgets/controls",
          "model_name": "HTMLModel",
          "state": {
            "_view_name": "HTMLView",
            "style": "IPY_MODEL_d081f695f88540d1bc5bfcdeaf9f61ab",
            "_dom_classes": [],
            "description": "",
            "_model_name": "HTMLModel",
            "placeholder": "​",
            "_view_module": "@jupyter-widgets/controls",
            "_model_module_version": "1.5.0",
            "value": " 385/385 [00:00&lt;00:00, 1.19kB/s]",
            "_view_count": null,
            "_view_module_version": "1.5.0",
            "description_tooltip": null,
            "_model_module": "@jupyter-widgets/controls",
            "layout": "IPY_MODEL_ef0edfec9fcd42a781d9e59e41116317"
          }
        },
        "7911c244694d4002ab74811aae4099c9": {
          "model_module": "@jupyter-widgets/controls",
          "model_name": "ProgressStyleModel",
          "state": {
            "_view_name": "StyleView",
            "_model_name": "ProgressStyleModel",
            "description_width": "initial",
            "_view_module": "@jupyter-widgets/base",
            "_model_module_version": "1.5.0",
            "_view_count": null,
            "_view_module_version": "1.2.0",
            "bar_color": null,
            "_model_module": "@jupyter-widgets/controls"
          }
        },
        "4bbd9cf647c844f190c12f17ad3cd53e": {
          "model_module": "@jupyter-widgets/base",
          "model_name": "LayoutModel",
          "state": {
            "_view_name": "LayoutView",
            "grid_template_rows": null,
            "right": null,
            "justify_content": null,
            "_view_module": "@jupyter-widgets/base",
            "overflow": null,
            "_model_module_version": "1.2.0",
            "_view_count": null,
            "flex_flow": null,
            "width": null,
            "min_width": null,
            "border": null,
            "align_items": null,
            "bottom": null,
            "_model_module": "@jupyter-widgets/base",
            "top": null,
            "grid_column": null,
            "overflow_y": null,
            "overflow_x": null,
            "grid_auto_flow": null,
            "grid_area": null,
            "grid_template_columns": null,
            "flex": null,
            "_model_name": "LayoutModel",
            "justify_items": null,
            "grid_row": null,
            "max_height": null,
            "align_content": null,
            "visibility": null,
            "align_self": null,
            "height": null,
            "min_height": null,
            "padding": null,
            "grid_auto_rows": null,
            "grid_gap": null,
            "max_width": null,
            "order": null,
            "_view_module_version": "1.2.0",
            "grid_template_areas": null,
            "object_position": null,
            "object_fit": null,
            "grid_auto_columns": null,
            "margin": null,
            "display": null,
            "left": null
          }
        },
        "d081f695f88540d1bc5bfcdeaf9f61ab": {
          "model_module": "@jupyter-widgets/controls",
          "model_name": "DescriptionStyleModel",
          "state": {
            "_view_name": "StyleView",
            "_model_name": "DescriptionStyleModel",
            "description_width": "",
            "_view_module": "@jupyter-widgets/base",
            "_model_module_version": "1.5.0",
            "_view_count": null,
            "_view_module_version": "1.2.0",
            "_model_module": "@jupyter-widgets/controls"
          }
        },
        "ef0edfec9fcd42a781d9e59e41116317": {
          "model_module": "@jupyter-widgets/base",
          "model_name": "LayoutModel",
          "state": {
            "_view_name": "LayoutView",
            "grid_template_rows": null,
            "right": null,
            "justify_content": null,
            "_view_module": "@jupyter-widgets/base",
            "overflow": null,
            "_model_module_version": "1.2.0",
            "_view_count": null,
            "flex_flow": null,
            "width": null,
            "min_width": null,
            "border": null,
            "align_items": null,
            "bottom": null,
            "_model_module": "@jupyter-widgets/base",
            "top": null,
            "grid_column": null,
            "overflow_y": null,
            "overflow_x": null,
            "grid_auto_flow": null,
            "grid_area": null,
            "grid_template_columns": null,
            "flex": null,
            "_model_name": "LayoutModel",
            "justify_items": null,
            "grid_row": null,
            "max_height": null,
            "align_content": null,
            "visibility": null,
            "align_self": null,
            "height": null,
            "min_height": null,
            "padding": null,
            "grid_auto_rows": null,
            "grid_gap": null,
            "max_width": null,
            "order": null,
            "_view_module_version": "1.2.0",
            "grid_template_areas": null,
            "object_position": null,
            "object_fit": null,
            "grid_auto_columns": null,
            "margin": null,
            "display": null,
            "left": null
          }
        },
        "98c75a71ec034dc59bcc26dd7b843b3d": {
          "model_module": "@jupyter-widgets/controls",
          "model_name": "HBoxModel",
          "state": {
            "_view_name": "HBoxView",
            "_dom_classes": [],
            "_model_name": "HBoxModel",
            "_view_module": "@jupyter-widgets/controls",
            "_model_module_version": "1.5.0",
            "_view_count": null,
            "_view_module_version": "1.5.0",
            "box_style": "",
            "layout": "IPY_MODEL_2bf5da24ad844032aa4ce29864e39aa1",
            "_model_module": "@jupyter-widgets/controls",
            "children": [
              "IPY_MODEL_c6d0f0a4203748a19730d9df5bb174be",
              "IPY_MODEL_0e02966b1d5748bd9ad3b362ce64b7d6"
            ]
          }
        },
        "2bf5da24ad844032aa4ce29864e39aa1": {
          "model_module": "@jupyter-widgets/base",
          "model_name": "LayoutModel",
          "state": {
            "_view_name": "LayoutView",
            "grid_template_rows": null,
            "right": null,
            "justify_content": null,
            "_view_module": "@jupyter-widgets/base",
            "overflow": null,
            "_model_module_version": "1.2.0",
            "_view_count": null,
            "flex_flow": null,
            "width": null,
            "min_width": null,
            "border": null,
            "align_items": null,
            "bottom": null,
            "_model_module": "@jupyter-widgets/base",
            "top": null,
            "grid_column": null,
            "overflow_y": null,
            "overflow_x": null,
            "grid_auto_flow": null,
            "grid_area": null,
            "grid_template_columns": null,
            "flex": null,
            "_model_name": "LayoutModel",
            "justify_items": null,
            "grid_row": null,
            "max_height": null,
            "align_content": null,
            "visibility": null,
            "align_self": null,
            "height": null,
            "min_height": null,
            "padding": null,
            "grid_auto_rows": null,
            "grid_gap": null,
            "max_width": null,
            "order": null,
            "_view_module_version": "1.2.0",
            "grid_template_areas": null,
            "object_position": null,
            "object_fit": null,
            "grid_auto_columns": null,
            "margin": null,
            "display": null,
            "left": null
          }
        },
        "c6d0f0a4203748a19730d9df5bb174be": {
          "model_module": "@jupyter-widgets/controls",
          "model_name": "FloatProgressModel",
          "state": {
            "_view_name": "ProgressView",
            "style": "IPY_MODEL_d18df175840745eb9fda74d111aebab2",
            "_dom_classes": [],
            "description": "Downloading: 100%",
            "_model_name": "FloatProgressModel",
            "bar_style": "success",
            "max": 227845,
            "_view_module": "@jupyter-widgets/controls",
            "_model_module_version": "1.5.0",
            "value": 227845,
            "_view_count": null,
            "_view_module_version": "1.5.0",
            "orientation": "horizontal",
            "min": 0,
            "description_tooltip": null,
            "_model_module": "@jupyter-widgets/controls",
            "layout": "IPY_MODEL_043b9b6899d945bf9e138bdc13e36811"
          }
        },
        "0e02966b1d5748bd9ad3b362ce64b7d6": {
          "model_module": "@jupyter-widgets/controls",
          "model_name": "HTMLModel",
          "state": {
            "_view_name": "HTMLView",
            "style": "IPY_MODEL_38f931fcf0514352891dca9a52902af3",
            "_dom_classes": [],
            "description": "",
            "_model_name": "HTMLModel",
            "placeholder": "​",
            "_view_module": "@jupyter-widgets/controls",
            "_model_module_version": "1.5.0",
            "value": " 228k/228k [00:01&lt;00:00, 166kB/s]",
            "_view_count": null,
            "_view_module_version": "1.5.0",
            "description_tooltip": null,
            "_model_module": "@jupyter-widgets/controls",
            "layout": "IPY_MODEL_441a785048d941618c1b8917482fafa1"
          }
        },
        "d18df175840745eb9fda74d111aebab2": {
          "model_module": "@jupyter-widgets/controls",
          "model_name": "ProgressStyleModel",
          "state": {
            "_view_name": "StyleView",
            "_model_name": "ProgressStyleModel",
            "description_width": "initial",
            "_view_module": "@jupyter-widgets/base",
            "_model_module_version": "1.5.0",
            "_view_count": null,
            "_view_module_version": "1.2.0",
            "bar_color": null,
            "_model_module": "@jupyter-widgets/controls"
          }
        },
        "043b9b6899d945bf9e138bdc13e36811": {
          "model_module": "@jupyter-widgets/base",
          "model_name": "LayoutModel",
          "state": {
            "_view_name": "LayoutView",
            "grid_template_rows": null,
            "right": null,
            "justify_content": null,
            "_view_module": "@jupyter-widgets/base",
            "overflow": null,
            "_model_module_version": "1.2.0",
            "_view_count": null,
            "flex_flow": null,
            "width": null,
            "min_width": null,
            "border": null,
            "align_items": null,
            "bottom": null,
            "_model_module": "@jupyter-widgets/base",
            "top": null,
            "grid_column": null,
            "overflow_y": null,
            "overflow_x": null,
            "grid_auto_flow": null,
            "grid_area": null,
            "grid_template_columns": null,
            "flex": null,
            "_model_name": "LayoutModel",
            "justify_items": null,
            "grid_row": null,
            "max_height": null,
            "align_content": null,
            "visibility": null,
            "align_self": null,
            "height": null,
            "min_height": null,
            "padding": null,
            "grid_auto_rows": null,
            "grid_gap": null,
            "max_width": null,
            "order": null,
            "_view_module_version": "1.2.0",
            "grid_template_areas": null,
            "object_position": null,
            "object_fit": null,
            "grid_auto_columns": null,
            "margin": null,
            "display": null,
            "left": null
          }
        },
        "38f931fcf0514352891dca9a52902af3": {
          "model_module": "@jupyter-widgets/controls",
          "model_name": "DescriptionStyleModel",
          "state": {
            "_view_name": "StyleView",
            "_model_name": "DescriptionStyleModel",
            "description_width": "",
            "_view_module": "@jupyter-widgets/base",
            "_model_module_version": "1.5.0",
            "_view_count": null,
            "_view_module_version": "1.2.0",
            "_model_module": "@jupyter-widgets/controls"
          }
        },
        "441a785048d941618c1b8917482fafa1": {
          "model_module": "@jupyter-widgets/base",
          "model_name": "LayoutModel",
          "state": {
            "_view_name": "LayoutView",
            "grid_template_rows": null,
            "right": null,
            "justify_content": null,
            "_view_module": "@jupyter-widgets/base",
            "overflow": null,
            "_model_module_version": "1.2.0",
            "_view_count": null,
            "flex_flow": null,
            "width": null,
            "min_width": null,
            "border": null,
            "align_items": null,
            "bottom": null,
            "_model_module": "@jupyter-widgets/base",
            "top": null,
            "grid_column": null,
            "overflow_y": null,
            "overflow_x": null,
            "grid_auto_flow": null,
            "grid_area": null,
            "grid_template_columns": null,
            "flex": null,
            "_model_name": "LayoutModel",
            "justify_items": null,
            "grid_row": null,
            "max_height": null,
            "align_content": null,
            "visibility": null,
            "align_self": null,
            "height": null,
            "min_height": null,
            "padding": null,
            "grid_auto_rows": null,
            "grid_gap": null,
            "max_width": null,
            "order": null,
            "_view_module_version": "1.2.0",
            "grid_template_areas": null,
            "object_position": null,
            "object_fit": null,
            "grid_auto_columns": null,
            "margin": null,
            "display": null,
            "left": null
          }
        },
        "18c42afa1ff944de99abbc0b4169ee5a": {
          "model_module": "@jupyter-widgets/controls",
          "model_name": "HBoxModel",
          "state": {
            "_view_name": "HBoxView",
            "_dom_classes": [],
            "_model_name": "HBoxModel",
            "_view_module": "@jupyter-widgets/controls",
            "_model_module_version": "1.5.0",
            "_view_count": null,
            "_view_module_version": "1.5.0",
            "box_style": "",
            "layout": "IPY_MODEL_accb3e2880c641dc9b952162de38f974",
            "_model_module": "@jupyter-widgets/controls",
            "children": [
              "IPY_MODEL_53c05d763bd0437c890bd8fc05c2f21d",
              "IPY_MODEL_0e0a262662e4416f90eb2b8ec663529c"
            ]
          }
        },
        "accb3e2880c641dc9b952162de38f974": {
          "model_module": "@jupyter-widgets/base",
          "model_name": "LayoutModel",
          "state": {
            "_view_name": "LayoutView",
            "grid_template_rows": null,
            "right": null,
            "justify_content": null,
            "_view_module": "@jupyter-widgets/base",
            "overflow": null,
            "_model_module_version": "1.2.0",
            "_view_count": null,
            "flex_flow": null,
            "width": null,
            "min_width": null,
            "border": null,
            "align_items": null,
            "bottom": null,
            "_model_module": "@jupyter-widgets/base",
            "top": null,
            "grid_column": null,
            "overflow_y": null,
            "overflow_x": null,
            "grid_auto_flow": null,
            "grid_area": null,
            "grid_template_columns": null,
            "flex": null,
            "_model_name": "LayoutModel",
            "justify_items": null,
            "grid_row": null,
            "max_height": null,
            "align_content": null,
            "visibility": null,
            "align_self": null,
            "height": null,
            "min_height": null,
            "padding": null,
            "grid_auto_rows": null,
            "grid_gap": null,
            "max_width": null,
            "order": null,
            "_view_module_version": "1.2.0",
            "grid_template_areas": null,
            "object_position": null,
            "object_fit": null,
            "grid_auto_columns": null,
            "margin": null,
            "display": null,
            "left": null
          }
        },
        "53c05d763bd0437c890bd8fc05c2f21d": {
          "model_module": "@jupyter-widgets/controls",
          "model_name": "FloatProgressModel",
          "state": {
            "_view_name": "ProgressView",
            "style": "IPY_MODEL_054eb09214d84269831f428fa4fcd78a",
            "_dom_classes": [],
            "description": "Downloading: 100%",
            "_model_name": "FloatProgressModel",
            "bar_style": "success",
            "max": 442221694,
            "_view_module": "@jupyter-widgets/controls",
            "_model_module_version": "1.5.0",
            "value": 442221694,
            "_view_count": null,
            "_view_module_version": "1.5.0",
            "orientation": "horizontal",
            "min": 0,
            "description_tooltip": null,
            "_model_module": "@jupyter-widgets/controls",
            "layout": "IPY_MODEL_007f2a8a981b4eff978a769576384c21"
          }
        },
        "0e0a262662e4416f90eb2b8ec663529c": {
          "model_module": "@jupyter-widgets/controls",
          "model_name": "HTMLModel",
          "state": {
            "_view_name": "HTMLView",
            "style": "IPY_MODEL_07c4b2afc5e64cf18df2772f983fc062",
            "_dom_classes": [],
            "description": "",
            "_model_name": "HTMLModel",
            "placeholder": "​",
            "_view_module": "@jupyter-widgets/controls",
            "_model_module_version": "1.5.0",
            "value": " 442M/442M [00:06&lt;00:00, 73.5MB/s]",
            "_view_count": null,
            "_view_module_version": "1.5.0",
            "description_tooltip": null,
            "_model_module": "@jupyter-widgets/controls",
            "layout": "IPY_MODEL_58d707e2034047eb86a050bf296f4a99"
          }
        },
        "054eb09214d84269831f428fa4fcd78a": {
          "model_module": "@jupyter-widgets/controls",
          "model_name": "ProgressStyleModel",
          "state": {
            "_view_name": "StyleView",
            "_model_name": "ProgressStyleModel",
            "description_width": "initial",
            "_view_module": "@jupyter-widgets/base",
            "_model_module_version": "1.5.0",
            "_view_count": null,
            "_view_module_version": "1.2.0",
            "bar_color": null,
            "_model_module": "@jupyter-widgets/controls"
          }
        },
        "007f2a8a981b4eff978a769576384c21": {
          "model_module": "@jupyter-widgets/base",
          "model_name": "LayoutModel",
          "state": {
            "_view_name": "LayoutView",
            "grid_template_rows": null,
            "right": null,
            "justify_content": null,
            "_view_module": "@jupyter-widgets/base",
            "overflow": null,
            "_model_module_version": "1.2.0",
            "_view_count": null,
            "flex_flow": null,
            "width": null,
            "min_width": null,
            "border": null,
            "align_items": null,
            "bottom": null,
            "_model_module": "@jupyter-widgets/base",
            "top": null,
            "grid_column": null,
            "overflow_y": null,
            "overflow_x": null,
            "grid_auto_flow": null,
            "grid_area": null,
            "grid_template_columns": null,
            "flex": null,
            "_model_name": "LayoutModel",
            "justify_items": null,
            "grid_row": null,
            "max_height": null,
            "align_content": null,
            "visibility": null,
            "align_self": null,
            "height": null,
            "min_height": null,
            "padding": null,
            "grid_auto_rows": null,
            "grid_gap": null,
            "max_width": null,
            "order": null,
            "_view_module_version": "1.2.0",
            "grid_template_areas": null,
            "object_position": null,
            "object_fit": null,
            "grid_auto_columns": null,
            "margin": null,
            "display": null,
            "left": null
          }
        },
        "07c4b2afc5e64cf18df2772f983fc062": {
          "model_module": "@jupyter-widgets/controls",
          "model_name": "DescriptionStyleModel",
          "state": {
            "_view_name": "StyleView",
            "_model_name": "DescriptionStyleModel",
            "description_width": "",
            "_view_module": "@jupyter-widgets/base",
            "_model_module_version": "1.5.0",
            "_view_count": null,
            "_view_module_version": "1.2.0",
            "_model_module": "@jupyter-widgets/controls"
          }
        },
        "58d707e2034047eb86a050bf296f4a99": {
          "model_module": "@jupyter-widgets/base",
          "model_name": "LayoutModel",
          "state": {
            "_view_name": "LayoutView",
            "grid_template_rows": null,
            "right": null,
            "justify_content": null,
            "_view_module": "@jupyter-widgets/base",
            "overflow": null,
            "_model_module_version": "1.2.0",
            "_view_count": null,
            "flex_flow": null,
            "width": null,
            "min_width": null,
            "border": null,
            "align_items": null,
            "bottom": null,
            "_model_module": "@jupyter-widgets/base",
            "top": null,
            "grid_column": null,
            "overflow_y": null,
            "overflow_x": null,
            "grid_auto_flow": null,
            "grid_area": null,
            "grid_template_columns": null,
            "flex": null,
            "_model_name": "LayoutModel",
            "justify_items": null,
            "grid_row": null,
            "max_height": null,
            "align_content": null,
            "visibility": null,
            "align_self": null,
            "height": null,
            "min_height": null,
            "padding": null,
            "grid_auto_rows": null,
            "grid_gap": null,
            "max_width": null,
            "order": null,
            "_view_module_version": "1.2.0",
            "grid_template_areas": null,
            "object_position": null,
            "object_fit": null,
            "grid_auto_columns": null,
            "margin": null,
            "display": null,
            "left": null
          }
        },
        "a8123a8752814ae38ef3601991244030": {
          "model_module": "@jupyter-widgets/controls",
          "model_name": "HBoxModel",
          "state": {
            "_view_name": "HBoxView",
            "_dom_classes": [],
            "_model_name": "HBoxModel",
            "_view_module": "@jupyter-widgets/controls",
            "_model_module_version": "1.5.0",
            "_view_count": null,
            "_view_module_version": "1.5.0",
            "box_style": "",
            "layout": "IPY_MODEL_183507e12de041a18bbe9fecd943301e",
            "_model_module": "@jupyter-widgets/controls",
            "children": [
              "IPY_MODEL_3deb7be58d2b4f4b85e8d4a92aa82289",
              "IPY_MODEL_5719cde83d854105b82acbf11dd5852b"
            ]
          }
        },
        "183507e12de041a18bbe9fecd943301e": {
          "model_module": "@jupyter-widgets/base",
          "model_name": "LayoutModel",
          "state": {
            "_view_name": "LayoutView",
            "grid_template_rows": null,
            "right": null,
            "justify_content": null,
            "_view_module": "@jupyter-widgets/base",
            "overflow": null,
            "_model_module_version": "1.2.0",
            "_view_count": null,
            "flex_flow": null,
            "width": null,
            "min_width": null,
            "border": null,
            "align_items": null,
            "bottom": null,
            "_model_module": "@jupyter-widgets/base",
            "top": null,
            "grid_column": null,
            "overflow_y": null,
            "overflow_x": null,
            "grid_auto_flow": null,
            "grid_area": null,
            "grid_template_columns": null,
            "flex": null,
            "_model_name": "LayoutModel",
            "justify_items": null,
            "grid_row": null,
            "max_height": null,
            "align_content": null,
            "visibility": null,
            "align_self": null,
            "height": null,
            "min_height": null,
            "padding": null,
            "grid_auto_rows": null,
            "grid_gap": null,
            "max_width": null,
            "order": null,
            "_view_module_version": "1.2.0",
            "grid_template_areas": null,
            "object_position": null,
            "object_fit": null,
            "grid_auto_columns": null,
            "margin": null,
            "display": null,
            "left": null
          }
        },
        "3deb7be58d2b4f4b85e8d4a92aa82289": {
          "model_module": "@jupyter-widgets/controls",
          "model_name": "FloatProgressModel",
          "state": {
            "_view_name": "ProgressView",
            "style": "IPY_MODEL_386c79eff605459bb058872903c41c0d",
            "_dom_classes": [],
            "description": "Downloading: 100%",
            "_model_name": "FloatProgressModel",
            "bar_style": "success",
            "max": 385,
            "_view_module": "@jupyter-widgets/controls",
            "_model_module_version": "1.5.0",
            "value": 385,
            "_view_count": null,
            "_view_module_version": "1.5.0",
            "orientation": "horizontal",
            "min": 0,
            "description_tooltip": null,
            "_model_module": "@jupyter-widgets/controls",
            "layout": "IPY_MODEL_66dba9d5b4084d37949f765dd1077e3d"
          }
        },
        "5719cde83d854105b82acbf11dd5852b": {
          "model_module": "@jupyter-widgets/controls",
          "model_name": "HTMLModel",
          "state": {
            "_view_name": "HTMLView",
            "style": "IPY_MODEL_76a85d0cd5f7402c9d1481a850dc782f",
            "_dom_classes": [],
            "description": "",
            "_model_name": "HTMLModel",
            "placeholder": "​",
            "_view_module": "@jupyter-widgets/controls",
            "_model_module_version": "1.5.0",
            "value": " 385/385 [03:20&lt;00:00, 1.92B/s]",
            "_view_count": null,
            "_view_module_version": "1.5.0",
            "description_tooltip": null,
            "_model_module": "@jupyter-widgets/controls",
            "layout": "IPY_MODEL_2ce5c9a638b1487ba5c4ef10d27b1732"
          }
        },
        "386c79eff605459bb058872903c41c0d": {
          "model_module": "@jupyter-widgets/controls",
          "model_name": "ProgressStyleModel",
          "state": {
            "_view_name": "StyleView",
            "_model_name": "ProgressStyleModel",
            "description_width": "initial",
            "_view_module": "@jupyter-widgets/base",
            "_model_module_version": "1.5.0",
            "_view_count": null,
            "_view_module_version": "1.2.0",
            "bar_color": null,
            "_model_module": "@jupyter-widgets/controls"
          }
        },
        "66dba9d5b4084d37949f765dd1077e3d": {
          "model_module": "@jupyter-widgets/base",
          "model_name": "LayoutModel",
          "state": {
            "_view_name": "LayoutView",
            "grid_template_rows": null,
            "right": null,
            "justify_content": null,
            "_view_module": "@jupyter-widgets/base",
            "overflow": null,
            "_model_module_version": "1.2.0",
            "_view_count": null,
            "flex_flow": null,
            "width": null,
            "min_width": null,
            "border": null,
            "align_items": null,
            "bottom": null,
            "_model_module": "@jupyter-widgets/base",
            "top": null,
            "grid_column": null,
            "overflow_y": null,
            "overflow_x": null,
            "grid_auto_flow": null,
            "grid_area": null,
            "grid_template_columns": null,
            "flex": null,
            "_model_name": "LayoutModel",
            "justify_items": null,
            "grid_row": null,
            "max_height": null,
            "align_content": null,
            "visibility": null,
            "align_self": null,
            "height": null,
            "min_height": null,
            "padding": null,
            "grid_auto_rows": null,
            "grid_gap": null,
            "max_width": null,
            "order": null,
            "_view_module_version": "1.2.0",
            "grid_template_areas": null,
            "object_position": null,
            "object_fit": null,
            "grid_auto_columns": null,
            "margin": null,
            "display": null,
            "left": null
          }
        },
        "76a85d0cd5f7402c9d1481a850dc782f": {
          "model_module": "@jupyter-widgets/controls",
          "model_name": "DescriptionStyleModel",
          "state": {
            "_view_name": "StyleView",
            "_model_name": "DescriptionStyleModel",
            "description_width": "",
            "_view_module": "@jupyter-widgets/base",
            "_model_module_version": "1.5.0",
            "_view_count": null,
            "_view_module_version": "1.2.0",
            "_model_module": "@jupyter-widgets/controls"
          }
        },
        "2ce5c9a638b1487ba5c4ef10d27b1732": {
          "model_module": "@jupyter-widgets/base",
          "model_name": "LayoutModel",
          "state": {
            "_view_name": "LayoutView",
            "grid_template_rows": null,
            "right": null,
            "justify_content": null,
            "_view_module": "@jupyter-widgets/base",
            "overflow": null,
            "_model_module_version": "1.2.0",
            "_view_count": null,
            "flex_flow": null,
            "width": null,
            "min_width": null,
            "border": null,
            "align_items": null,
            "bottom": null,
            "_model_module": "@jupyter-widgets/base",
            "top": null,
            "grid_column": null,
            "overflow_y": null,
            "overflow_x": null,
            "grid_auto_flow": null,
            "grid_area": null,
            "grid_template_columns": null,
            "flex": null,
            "_model_name": "LayoutModel",
            "justify_items": null,
            "grid_row": null,
            "max_height": null,
            "align_content": null,
            "visibility": null,
            "align_self": null,
            "height": null,
            "min_height": null,
            "padding": null,
            "grid_auto_rows": null,
            "grid_gap": null,
            "max_width": null,
            "order": null,
            "_view_module_version": "1.2.0",
            "grid_template_areas": null,
            "object_position": null,
            "object_fit": null,
            "grid_auto_columns": null,
            "margin": null,
            "display": null,
            "left": null
          }
        },
        "d33feb83f1d74d0d91c66fe393147c58": {
          "model_module": "@jupyter-widgets/controls",
          "model_name": "HBoxModel",
          "state": {
            "_view_name": "HBoxView",
            "_dom_classes": [],
            "_model_name": "HBoxModel",
            "_view_module": "@jupyter-widgets/controls",
            "_model_module_version": "1.5.0",
            "_view_count": null,
            "_view_module_version": "1.5.0",
            "box_style": "",
            "layout": "IPY_MODEL_f13fa4ce061f4c50ab15f6234dd77a00",
            "_model_module": "@jupyter-widgets/controls",
            "children": [
              "IPY_MODEL_cecdb64b07324e5b82c4b4e32b81c0a3",
              "IPY_MODEL_11e3cf8c09494cdb918ff0cb0ae02770"
            ]
          }
        },
        "f13fa4ce061f4c50ab15f6234dd77a00": {
          "model_module": "@jupyter-widgets/base",
          "model_name": "LayoutModel",
          "state": {
            "_view_name": "LayoutView",
            "grid_template_rows": null,
            "right": null,
            "justify_content": null,
            "_view_module": "@jupyter-widgets/base",
            "overflow": null,
            "_model_module_version": "1.2.0",
            "_view_count": null,
            "flex_flow": null,
            "width": null,
            "min_width": null,
            "border": null,
            "align_items": null,
            "bottom": null,
            "_model_module": "@jupyter-widgets/base",
            "top": null,
            "grid_column": null,
            "overflow_y": null,
            "overflow_x": null,
            "grid_auto_flow": null,
            "grid_area": null,
            "grid_template_columns": null,
            "flex": null,
            "_model_name": "LayoutModel",
            "justify_items": null,
            "grid_row": null,
            "max_height": null,
            "align_content": null,
            "visibility": null,
            "align_self": null,
            "height": null,
            "min_height": null,
            "padding": null,
            "grid_auto_rows": null,
            "grid_gap": null,
            "max_width": null,
            "order": null,
            "_view_module_version": "1.2.0",
            "grid_template_areas": null,
            "object_position": null,
            "object_fit": null,
            "grid_auto_columns": null,
            "margin": null,
            "display": null,
            "left": null
          }
        },
        "cecdb64b07324e5b82c4b4e32b81c0a3": {
          "model_module": "@jupyter-widgets/controls",
          "model_name": "FloatProgressModel",
          "state": {
            "_view_name": "ProgressView",
            "style": "IPY_MODEL_98dd8fb8134c4b7b9da533d53f12ec44",
            "_dom_classes": [],
            "description": "Downloading: 100%",
            "_model_name": "FloatProgressModel",
            "bar_style": "success",
            "max": 442221694,
            "_view_module": "@jupyter-widgets/controls",
            "_model_module_version": "1.5.0",
            "value": 442221694,
            "_view_count": null,
            "_view_module_version": "1.5.0",
            "orientation": "horizontal",
            "min": 0,
            "description_tooltip": null,
            "_model_module": "@jupyter-widgets/controls",
            "layout": "IPY_MODEL_04619736f63b4259bf815bb46c652fd0"
          }
        },
        "11e3cf8c09494cdb918ff0cb0ae02770": {
          "model_module": "@jupyter-widgets/controls",
          "model_name": "HTMLModel",
          "state": {
            "_view_name": "HTMLView",
            "style": "IPY_MODEL_d7e9ad7c51fc41449672b37010806928",
            "_dom_classes": [],
            "description": "",
            "_model_name": "HTMLModel",
            "placeholder": "​",
            "_view_module": "@jupyter-widgets/controls",
            "_model_module_version": "1.5.0",
            "value": " 442M/442M [00:12&lt;00:00, 36.0MB/s]",
            "_view_count": null,
            "_view_module_version": "1.5.0",
            "description_tooltip": null,
            "_model_module": "@jupyter-widgets/controls",
            "layout": "IPY_MODEL_a22fad6aad2f4e15ba5b6f7bd4e0ee20"
          }
        },
        "98dd8fb8134c4b7b9da533d53f12ec44": {
          "model_module": "@jupyter-widgets/controls",
          "model_name": "ProgressStyleModel",
          "state": {
            "_view_name": "StyleView",
            "_model_name": "ProgressStyleModel",
            "description_width": "initial",
            "_view_module": "@jupyter-widgets/base",
            "_model_module_version": "1.5.0",
            "_view_count": null,
            "_view_module_version": "1.2.0",
            "bar_color": null,
            "_model_module": "@jupyter-widgets/controls"
          }
        },
        "04619736f63b4259bf815bb46c652fd0": {
          "model_module": "@jupyter-widgets/base",
          "model_name": "LayoutModel",
          "state": {
            "_view_name": "LayoutView",
            "grid_template_rows": null,
            "right": null,
            "justify_content": null,
            "_view_module": "@jupyter-widgets/base",
            "overflow": null,
            "_model_module_version": "1.2.0",
            "_view_count": null,
            "flex_flow": null,
            "width": null,
            "min_width": null,
            "border": null,
            "align_items": null,
            "bottom": null,
            "_model_module": "@jupyter-widgets/base",
            "top": null,
            "grid_column": null,
            "overflow_y": null,
            "overflow_x": null,
            "grid_auto_flow": null,
            "grid_area": null,
            "grid_template_columns": null,
            "flex": null,
            "_model_name": "LayoutModel",
            "justify_items": null,
            "grid_row": null,
            "max_height": null,
            "align_content": null,
            "visibility": null,
            "align_self": null,
            "height": null,
            "min_height": null,
            "padding": null,
            "grid_auto_rows": null,
            "grid_gap": null,
            "max_width": null,
            "order": null,
            "_view_module_version": "1.2.0",
            "grid_template_areas": null,
            "object_position": null,
            "object_fit": null,
            "grid_auto_columns": null,
            "margin": null,
            "display": null,
            "left": null
          }
        },
        "d7e9ad7c51fc41449672b37010806928": {
          "model_module": "@jupyter-widgets/controls",
          "model_name": "DescriptionStyleModel",
          "state": {
            "_view_name": "StyleView",
            "_model_name": "DescriptionStyleModel",
            "description_width": "",
            "_view_module": "@jupyter-widgets/base",
            "_model_module_version": "1.5.0",
            "_view_count": null,
            "_view_module_version": "1.2.0",
            "_model_module": "@jupyter-widgets/controls"
          }
        },
        "a22fad6aad2f4e15ba5b6f7bd4e0ee20": {
          "model_module": "@jupyter-widgets/base",
          "model_name": "LayoutModel",
          "state": {
            "_view_name": "LayoutView",
            "grid_template_rows": null,
            "right": null,
            "justify_content": null,
            "_view_module": "@jupyter-widgets/base",
            "overflow": null,
            "_model_module_version": "1.2.0",
            "_view_count": null,
            "flex_flow": null,
            "width": null,
            "min_width": null,
            "border": null,
            "align_items": null,
            "bottom": null,
            "_model_module": "@jupyter-widgets/base",
            "top": null,
            "grid_column": null,
            "overflow_y": null,
            "overflow_x": null,
            "grid_auto_flow": null,
            "grid_area": null,
            "grid_template_columns": null,
            "flex": null,
            "_model_name": "LayoutModel",
            "justify_items": null,
            "grid_row": null,
            "max_height": null,
            "align_content": null,
            "visibility": null,
            "align_self": null,
            "height": null,
            "min_height": null,
            "padding": null,
            "grid_auto_rows": null,
            "grid_gap": null,
            "max_width": null,
            "order": null,
            "_view_module_version": "1.2.0",
            "grid_template_areas": null,
            "object_position": null,
            "object_fit": null,
            "grid_auto_columns": null,
            "margin": null,
            "display": null,
            "left": null
          }
        }
      }
    }
  },
  "cells": [
    {
      "cell_type": "code",
      "metadata": {
        "id": "jNvMvovU_ib1",
        "outputId": "8e02a360-c838-47b5-b29b-7b99177a54d8",
        "colab": {
          "base_uri": "https://localhost:8080/",
          "height": 698
        }
      },
      "source": [
        "!pip install transformers"
      ],
      "execution_count": 1,
      "outputs": [
        {
          "output_type": "stream",
          "text": [
            "Collecting transformers\n",
            "\u001b[?25l  Downloading https://files.pythonhosted.org/packages/2c/4e/4f1ede0fd7a36278844a277f8d53c21f88f37f3754abf76a5d6224f76d4a/transformers-3.4.0-py3-none-any.whl (1.3MB)\n",
            "\r\u001b[K     |▎                               | 10kB 27.4MB/s eta 0:00:01\r\u001b[K     |▌                               | 20kB 2.9MB/s eta 0:00:01\r\u001b[K     |▉                               | 30kB 3.8MB/s eta 0:00:01\r\u001b[K     |█                               | 40kB 4.1MB/s eta 0:00:01\r\u001b[K     |█▎                              | 51kB 3.3MB/s eta 0:00:01\r\u001b[K     |█▋                              | 61kB 3.7MB/s eta 0:00:01\r\u001b[K     |█▉                              | 71kB 4.1MB/s eta 0:00:01\r\u001b[K     |██                              | 81kB 4.3MB/s eta 0:00:01\r\u001b[K     |██▍                             | 92kB 4.7MB/s eta 0:00:01\r\u001b[K     |██▋                             | 102kB 4.6MB/s eta 0:00:01\r\u001b[K     |██▉                             | 112kB 4.6MB/s eta 0:00:01\r\u001b[K     |███▏                            | 122kB 4.6MB/s eta 0:00:01\r\u001b[K     |███▍                            | 133kB 4.6MB/s eta 0:00:01\r\u001b[K     |███▋                            | 143kB 4.6MB/s eta 0:00:01\r\u001b[K     |████                            | 153kB 4.6MB/s eta 0:00:01\r\u001b[K     |████▏                           | 163kB 4.6MB/s eta 0:00:01\r\u001b[K     |████▍                           | 174kB 4.6MB/s eta 0:00:01\r\u001b[K     |████▊                           | 184kB 4.6MB/s eta 0:00:01\r\u001b[K     |█████                           | 194kB 4.6MB/s eta 0:00:01\r\u001b[K     |█████▏                          | 204kB 4.6MB/s eta 0:00:01\r\u001b[K     |█████▌                          | 215kB 4.6MB/s eta 0:00:01\r\u001b[K     |█████▊                          | 225kB 4.6MB/s eta 0:00:01\r\u001b[K     |██████                          | 235kB 4.6MB/s eta 0:00:01\r\u001b[K     |██████▎                         | 245kB 4.6MB/s eta 0:00:01\r\u001b[K     |██████▌                         | 256kB 4.6MB/s eta 0:00:01\r\u001b[K     |██████▊                         | 266kB 4.6MB/s eta 0:00:01\r\u001b[K     |███████                         | 276kB 4.6MB/s eta 0:00:01\r\u001b[K     |███████▎                        | 286kB 4.6MB/s eta 0:00:01\r\u001b[K     |███████▋                        | 296kB 4.6MB/s eta 0:00:01\r\u001b[K     |███████▉                        | 307kB 4.6MB/s eta 0:00:01\r\u001b[K     |████████                        | 317kB 4.6MB/s eta 0:00:01\r\u001b[K     |████████▍                       | 327kB 4.6MB/s eta 0:00:01\r\u001b[K     |████████▋                       | 337kB 4.6MB/s eta 0:00:01\r\u001b[K     |████████▉                       | 348kB 4.6MB/s eta 0:00:01\r\u001b[K     |█████████▏                      | 358kB 4.6MB/s eta 0:00:01\r\u001b[K     |█████████▍                      | 368kB 4.6MB/s eta 0:00:01\r\u001b[K     |█████████▋                      | 378kB 4.6MB/s eta 0:00:01\r\u001b[K     |██████████                      | 389kB 4.6MB/s eta 0:00:01\r\u001b[K     |██████████▏                     | 399kB 4.6MB/s eta 0:00:01\r\u001b[K     |██████████▍                     | 409kB 4.6MB/s eta 0:00:01\r\u001b[K     |██████████▊                     | 419kB 4.6MB/s eta 0:00:01\r\u001b[K     |███████████                     | 430kB 4.6MB/s eta 0:00:01\r\u001b[K     |███████████▏                    | 440kB 4.6MB/s eta 0:00:01\r\u001b[K     |███████████▌                    | 450kB 4.6MB/s eta 0:00:01\r\u001b[K     |███████████▊                    | 460kB 4.6MB/s eta 0:00:01\r\u001b[K     |████████████                    | 471kB 4.6MB/s eta 0:00:01\r\u001b[K     |████████████▎                   | 481kB 4.6MB/s eta 0:00:01\r\u001b[K     |████████████▌                   | 491kB 4.6MB/s eta 0:00:01\r\u001b[K     |████████████▊                   | 501kB 4.6MB/s eta 0:00:01\r\u001b[K     |█████████████                   | 512kB 4.6MB/s eta 0:00:01\r\u001b[K     |█████████████▎                  | 522kB 4.6MB/s eta 0:00:01\r\u001b[K     |█████████████▌                  | 532kB 4.6MB/s eta 0:00:01\r\u001b[K     |█████████████▉                  | 542kB 4.6MB/s eta 0:00:01\r\u001b[K     |██████████████                  | 552kB 4.6MB/s eta 0:00:01\r\u001b[K     |██████████████▍                 | 563kB 4.6MB/s eta 0:00:01\r\u001b[K     |██████████████▋                 | 573kB 4.6MB/s eta 0:00:01\r\u001b[K     |██████████████▉                 | 583kB 4.6MB/s eta 0:00:01\r\u001b[K     |███████████████▏                | 593kB 4.6MB/s eta 0:00:01\r\u001b[K     |███████████████▍                | 604kB 4.6MB/s eta 0:00:01\r\u001b[K     |███████████████▋                | 614kB 4.6MB/s eta 0:00:01\r\u001b[K     |████████████████                | 624kB 4.6MB/s eta 0:00:01\r\u001b[K     |████████████████▏               | 634kB 4.6MB/s eta 0:00:01\r\u001b[K     |████████████████▍               | 645kB 4.6MB/s eta 0:00:01\r\u001b[K     |████████████████▊               | 655kB 4.6MB/s eta 0:00:01\r\u001b[K     |█████████████████               | 665kB 4.6MB/s eta 0:00:01\r\u001b[K     |█████████████████▏              | 675kB 4.6MB/s eta 0:00:01\r\u001b[K     |█████████████████▌              | 686kB 4.6MB/s eta 0:00:01\r\u001b[K     |█████████████████▊              | 696kB 4.6MB/s eta 0:00:01\r\u001b[K     |██████████████████              | 706kB 4.6MB/s eta 0:00:01\r\u001b[K     |██████████████████▎             | 716kB 4.6MB/s eta 0:00:01\r\u001b[K     |██████████████████▌             | 727kB 4.6MB/s eta 0:00:01\r\u001b[K     |██████████████████▊             | 737kB 4.6MB/s eta 0:00:01\r\u001b[K     |███████████████████             | 747kB 4.6MB/s eta 0:00:01\r\u001b[K     |███████████████████▎            | 757kB 4.6MB/s eta 0:00:01\r\u001b[K     |███████████████████▌            | 768kB 4.6MB/s eta 0:00:01\r\u001b[K     |███████████████████▉            | 778kB 4.6MB/s eta 0:00:01\r\u001b[K     |████████████████████            | 788kB 4.6MB/s eta 0:00:01\r\u001b[K     |████████████████████▎           | 798kB 4.6MB/s eta 0:00:01\r\u001b[K     |████████████████████▋           | 808kB 4.6MB/s eta 0:00:01\r\u001b[K     |████████████████████▉           | 819kB 4.6MB/s eta 0:00:01\r\u001b[K     |█████████████████████           | 829kB 4.6MB/s eta 0:00:01\r\u001b[K     |█████████████████████▍          | 839kB 4.6MB/s eta 0:00:01\r\u001b[K     |█████████████████████▋          | 849kB 4.6MB/s eta 0:00:01\r\u001b[K     |██████████████████████          | 860kB 4.6MB/s eta 0:00:01\r\u001b[K     |██████████████████████▏         | 870kB 4.6MB/s eta 0:00:01\r\u001b[K     |██████████████████████▍         | 880kB 4.6MB/s eta 0:00:01\r\u001b[K     |██████████████████████▊         | 890kB 4.6MB/s eta 0:00:01\r\u001b[K     |███████████████████████         | 901kB 4.6MB/s eta 0:00:01\r\u001b[K     |███████████████████████▏        | 911kB 4.6MB/s eta 0:00:01\r\u001b[K     |███████████████████████▌        | 921kB 4.6MB/s eta 0:00:01\r\u001b[K     |███████████████████████▊        | 931kB 4.6MB/s eta 0:00:01\r\u001b[K     |████████████████████████        | 942kB 4.6MB/s eta 0:00:01\r\u001b[K     |████████████████████████▎       | 952kB 4.6MB/s eta 0:00:01\r\u001b[K     |████████████████████████▌       | 962kB 4.6MB/s eta 0:00:01\r\u001b[K     |████████████████████████▊       | 972kB 4.6MB/s eta 0:00:01\r\u001b[K     |█████████████████████████       | 983kB 4.6MB/s eta 0:00:01\r\u001b[K     |█████████████████████████▎      | 993kB 4.6MB/s eta 0:00:01\r\u001b[K     |█████████████████████████▌      | 1.0MB 4.6MB/s eta 0:00:01\r\u001b[K     |█████████████████████████▉      | 1.0MB 4.6MB/s eta 0:00:01\r\u001b[K     |██████████████████████████      | 1.0MB 4.6MB/s eta 0:00:01\r\u001b[K     |██████████████████████████▎     | 1.0MB 4.6MB/s eta 0:00:01\r\u001b[K     |██████████████████████████▋     | 1.0MB 4.6MB/s eta 0:00:01\r\u001b[K     |██████████████████████████▉     | 1.1MB 4.6MB/s eta 0:00:01\r\u001b[K     |███████████████████████████     | 1.1MB 4.6MB/s eta 0:00:01\r\u001b[K     |███████████████████████████▍    | 1.1MB 4.6MB/s eta 0:00:01\r\u001b[K     |███████████████████████████▋    | 1.1MB 4.6MB/s eta 0:00:01\r\u001b[K     |███████████████████████████▉    | 1.1MB 4.6MB/s eta 0:00:01\r\u001b[K     |████████████████████████████▏   | 1.1MB 4.6MB/s eta 0:00:01\r\u001b[K     |████████████████████████████▍   | 1.1MB 4.6MB/s eta 0:00:01\r\u001b[K     |████████████████████████████▊   | 1.1MB 4.6MB/s eta 0:00:01\r\u001b[K     |█████████████████████████████   | 1.1MB 4.6MB/s eta 0:00:01\r\u001b[K     |█████████████████████████████▏  | 1.1MB 4.6MB/s eta 0:00:01\r\u001b[K     |█████████████████████████████▌  | 1.2MB 4.6MB/s eta 0:00:01\r\u001b[K     |█████████████████████████████▊  | 1.2MB 4.6MB/s eta 0:00:01\r\u001b[K     |██████████████████████████████  | 1.2MB 4.6MB/s eta 0:00:01\r\u001b[K     |██████████████████████████████▎ | 1.2MB 4.6MB/s eta 0:00:01\r\u001b[K     |██████████████████████████████▌ | 1.2MB 4.6MB/s eta 0:00:01\r\u001b[K     |██████████████████████████████▊ | 1.2MB 4.6MB/s eta 0:00:01\r\u001b[K     |███████████████████████████████ | 1.2MB 4.6MB/s eta 0:00:01\r\u001b[K     |███████████████████████████████▎| 1.2MB 4.6MB/s eta 0:00:01\r\u001b[K     |███████████████████████████████▌| 1.2MB 4.6MB/s eta 0:00:01\r\u001b[K     |███████████████████████████████▉| 1.2MB 4.6MB/s eta 0:00:01\r\u001b[K     |████████████████████████████████| 1.3MB 4.6MB/s \n",
            "\u001b[?25hRequirement already satisfied: numpy in /usr/local/lib/python3.6/dist-packages (from transformers) (1.18.5)\n",
            "Collecting sentencepiece!=0.1.92\n",
            "\u001b[?25l  Downloading https://files.pythonhosted.org/packages/e5/2d/6d4ca4bef9a67070fa1cac508606328329152b1df10bdf31fb6e4e727894/sentencepiece-0.1.94-cp36-cp36m-manylinux2014_x86_64.whl (1.1MB)\n",
            "\u001b[K     |████████████████████████████████| 1.1MB 37.1MB/s \n",
            "\u001b[?25hRequirement already satisfied: packaging in /usr/local/lib/python3.6/dist-packages (from transformers) (20.4)\n",
            "Requirement already satisfied: tqdm>=4.27 in /usr/local/lib/python3.6/dist-packages (from transformers) (4.41.1)\n",
            "Collecting sacremoses\n",
            "\u001b[?25l  Downloading https://files.pythonhosted.org/packages/7d/34/09d19aff26edcc8eb2a01bed8e98f13a1537005d31e95233fd48216eed10/sacremoses-0.0.43.tar.gz (883kB)\n",
            "\u001b[K     |████████████████████████████████| 890kB 30.8MB/s \n",
            "\u001b[?25hRequirement already satisfied: regex!=2019.12.17 in /usr/local/lib/python3.6/dist-packages (from transformers) (2019.12.20)\n",
            "Requirement already satisfied: filelock in /usr/local/lib/python3.6/dist-packages (from transformers) (3.0.12)\n",
            "Requirement already satisfied: dataclasses; python_version < \"3.7\" in /usr/local/lib/python3.6/dist-packages (from transformers) (0.7)\n",
            "Requirement already satisfied: requests in /usr/local/lib/python3.6/dist-packages (from transformers) (2.23.0)\n",
            "Collecting tokenizers==0.9.2\n",
            "\u001b[?25l  Downloading https://files.pythonhosted.org/packages/7c/a5/78be1a55b2ac8d6a956f0a211d372726e2b1dd2666bb537fea9b03abd62c/tokenizers-0.9.2-cp36-cp36m-manylinux1_x86_64.whl (2.9MB)\n",
            "\u001b[K     |████████████████████████████████| 2.9MB 43.1MB/s \n",
            "\u001b[?25hRequirement already satisfied: protobuf in /usr/local/lib/python3.6/dist-packages (from transformers) (3.12.4)\n",
            "Requirement already satisfied: pyparsing>=2.0.2 in /usr/local/lib/python3.6/dist-packages (from packaging->transformers) (2.4.7)\n",
            "Requirement already satisfied: six in /usr/local/lib/python3.6/dist-packages (from packaging->transformers) (1.15.0)\n",
            "Requirement already satisfied: click in /usr/local/lib/python3.6/dist-packages (from sacremoses->transformers) (7.1.2)\n",
            "Requirement already satisfied: joblib in /usr/local/lib/python3.6/dist-packages (from sacremoses->transformers) (0.17.0)\n",
            "Requirement already satisfied: urllib3!=1.25.0,!=1.25.1,<1.26,>=1.21.1 in /usr/local/lib/python3.6/dist-packages (from requests->transformers) (1.24.3)\n",
            "Requirement already satisfied: certifi>=2017.4.17 in /usr/local/lib/python3.6/dist-packages (from requests->transformers) (2020.6.20)\n",
            "Requirement already satisfied: idna<3,>=2.5 in /usr/local/lib/python3.6/dist-packages (from requests->transformers) (2.10)\n",
            "Requirement already satisfied: chardet<4,>=3.0.2 in /usr/local/lib/python3.6/dist-packages (from requests->transformers) (3.0.4)\n",
            "Requirement already satisfied: setuptools in /usr/local/lib/python3.6/dist-packages (from protobuf->transformers) (50.3.0)\n",
            "Building wheels for collected packages: sacremoses\n",
            "  Building wheel for sacremoses (setup.py) ... \u001b[?25l\u001b[?25hdone\n",
            "  Created wheel for sacremoses: filename=sacremoses-0.0.43-cp36-none-any.whl size=893257 sha256=803358c0296d27af09b1d78280043e7f74101e49404cdb6d792addee23189db9\n",
            "  Stored in directory: /root/.cache/pip/wheels/29/3c/fd/7ce5c3f0666dab31a50123635e6fb5e19ceb42ce38d4e58f45\n",
            "Successfully built sacremoses\n",
            "Installing collected packages: sentencepiece, sacremoses, tokenizers, transformers\n",
            "Successfully installed sacremoses-0.0.43 sentencepiece-0.1.94 tokenizers-0.9.2 transformers-3.4.0\n"
          ],
          "name": "stdout"
        }
      ]
    },
    {
      "cell_type": "code",
      "metadata": {
        "id": "xSrAoj7GS2iz",
        "outputId": "b01b5dca-5e08-4fa3-ea27-42ddc21a2990",
        "colab": {
          "base_uri": "https://localhost:8080/",
          "height": 184
        }
      },
      "source": [
        "!pip install iterative-stratification"
      ],
      "execution_count": 2,
      "outputs": [
        {
          "output_type": "stream",
          "text": [
            "Collecting iterative-stratification\n",
            "  Downloading https://files.pythonhosted.org/packages/9d/79/9ba64c8c07b07b8b45d80725b2ebd7b7884701c1da34f70d4749f7b45f9a/iterative_stratification-0.1.6-py3-none-any.whl\n",
            "Requirement already satisfied: scipy in /usr/local/lib/python3.6/dist-packages (from iterative-stratification) (1.4.1)\n",
            "Requirement already satisfied: numpy in /usr/local/lib/python3.6/dist-packages (from iterative-stratification) (1.18.5)\n",
            "Requirement already satisfied: scikit-learn in /usr/local/lib/python3.6/dist-packages (from iterative-stratification) (0.22.2.post1)\n",
            "Requirement already satisfied: joblib>=0.11 in /usr/local/lib/python3.6/dist-packages (from scikit-learn->iterative-stratification) (0.17.0)\n",
            "Installing collected packages: iterative-stratification\n",
            "Successfully installed iterative-stratification-0.1.6\n"
          ],
          "name": "stdout"
        }
      ]
    },
    {
      "cell_type": "markdown",
      "metadata": {
        "id": "Hkoj_9Mwo4kx"
      },
      "source": [
        "#Importing required Libraries"
      ]
    },
    {
      "cell_type": "code",
      "metadata": {
        "id": "VvkCKm0b2_Qw"
      },
      "source": [
        "import numpy as np\n",
        "import pandas as pd\n",
        "import seaborn as sns\n",
        "from tqdm import tqdm\n",
        "\n",
        "from collections import defaultdict\n",
        "\n",
        "import transformers\n",
        "import torch\n",
        "from torch import nn\n",
        "from torch import optim\n",
        "from torch.utils.data import DataLoader,Dataset\n",
        "from iterstrat.ml_stratifiers import MultilabelStratifiedKFold"
      ],
      "execution_count": 3,
      "outputs": []
    },
    {
      "cell_type": "markdown",
      "metadata": {
        "id": "BI7NCsOOpC79"
      },
      "source": [
        "#Import the train and test files"
      ]
    },
    {
      "cell_type": "code",
      "metadata": {
        "id": "-paHx1J66woq",
        "outputId": "cc85e0da-3fcd-4a09-9ec1-e233351223a7",
        "colab": {
          "base_uri": "https://localhost:8080/",
          "height": 415
        }
      },
      "source": [
        "train = pd.read_csv(\"/content/drive/My Drive/train.csv\")\n",
        "test = pd.read_csv(\"/content/drive/My Drive/test.csv\")\n",
        "\n",
        "train.head()"
      ],
      "execution_count": null,
      "outputs": [
        {
          "output_type": "execute_result",
          "data": {
            "text/html": [
              "<div>\n",
              "<style scoped>\n",
              "    .dataframe tbody tr th:only-of-type {\n",
              "        vertical-align: middle;\n",
              "    }\n",
              "\n",
              "    .dataframe tbody tr th {\n",
              "        vertical-align: top;\n",
              "    }\n",
              "\n",
              "    .dataframe thead th {\n",
              "        text-align: right;\n",
              "    }\n",
              "</style>\n",
              "<table border=\"1\" class=\"dataframe\">\n",
              "  <thead>\n",
              "    <tr style=\"text-align: right;\">\n",
              "      <th></th>\n",
              "      <th>ID</th>\n",
              "      <th>TITLE</th>\n",
              "      <th>ABSTRACT</th>\n",
              "      <th>Computer Science</th>\n",
              "      <th>Physics</th>\n",
              "      <th>Mathematics</th>\n",
              "      <th>Statistics</th>\n",
              "      <th>Quantitative Biology</th>\n",
              "      <th>Quantitative Finance</th>\n",
              "    </tr>\n",
              "  </thead>\n",
              "  <tbody>\n",
              "    <tr>\n",
              "      <th>0</th>\n",
              "      <td>1</td>\n",
              "      <td>Reconstructing Subject-Specific Effect Maps</td>\n",
              "      <td>Predictive models allow subject-specific inf...</td>\n",
              "      <td>1</td>\n",
              "      <td>0</td>\n",
              "      <td>0</td>\n",
              "      <td>0</td>\n",
              "      <td>0</td>\n",
              "      <td>0</td>\n",
              "    </tr>\n",
              "    <tr>\n",
              "      <th>1</th>\n",
              "      <td>2</td>\n",
              "      <td>Rotation Invariance Neural Network</td>\n",
              "      <td>Rotation invariance and translation invarian...</td>\n",
              "      <td>1</td>\n",
              "      <td>0</td>\n",
              "      <td>0</td>\n",
              "      <td>0</td>\n",
              "      <td>0</td>\n",
              "      <td>0</td>\n",
              "    </tr>\n",
              "    <tr>\n",
              "      <th>2</th>\n",
              "      <td>3</td>\n",
              "      <td>Spherical polyharmonics and Poisson kernels fo...</td>\n",
              "      <td>We introduce and develop the notion of spher...</td>\n",
              "      <td>0</td>\n",
              "      <td>0</td>\n",
              "      <td>1</td>\n",
              "      <td>0</td>\n",
              "      <td>0</td>\n",
              "      <td>0</td>\n",
              "    </tr>\n",
              "    <tr>\n",
              "      <th>3</th>\n",
              "      <td>4</td>\n",
              "      <td>A finite element approximation for the stochas...</td>\n",
              "      <td>The stochastic Landau--Lifshitz--Gilbert (LL...</td>\n",
              "      <td>0</td>\n",
              "      <td>0</td>\n",
              "      <td>1</td>\n",
              "      <td>0</td>\n",
              "      <td>0</td>\n",
              "      <td>0</td>\n",
              "    </tr>\n",
              "    <tr>\n",
              "      <th>4</th>\n",
              "      <td>5</td>\n",
              "      <td>Comparative study of Discrete Wavelet Transfor...</td>\n",
              "      <td>Fourier-transform infra-red (FTIR) spectra o...</td>\n",
              "      <td>1</td>\n",
              "      <td>0</td>\n",
              "      <td>0</td>\n",
              "      <td>1</td>\n",
              "      <td>0</td>\n",
              "      <td>0</td>\n",
              "    </tr>\n",
              "  </tbody>\n",
              "</table>\n",
              "</div>"
            ],
            "text/plain": [
              "   ID  ... Quantitative Finance\n",
              "0   1  ...                    0\n",
              "1   2  ...                    0\n",
              "2   3  ...                    0\n",
              "3   4  ...                    0\n",
              "4   5  ...                    0\n",
              "\n",
              "[5 rows x 9 columns]"
            ]
          },
          "metadata": {
            "tags": []
          },
          "execution_count": 2
        }
      ]
    },
    {
      "cell_type": "code",
      "metadata": {
        "id": "zRJcRtAY9_-G"
      },
      "source": [
        "train.ABSTRACT = train.ABSTRACT.str.replace('\\n',' ').str.strip().str.lower()\n",
        "train.TITLE = train.TITLE.str.replace('\\n',' ').str.strip().str.lower()\n",
        "\n",
        "test.ABSTRACT = test.ABSTRACT.str.replace('\\n',' ').str.strip().str.lower()\n",
        "test.TITLE = test.TITLE.str.replace('\\n',' ').str.strip().str.lower()"
      ],
      "execution_count": null,
      "outputs": []
    },
    {
      "cell_type": "code",
      "metadata": {
        "id": "6eP9tt0pqM65"
      },
      "source": [
        "#let's merge the title and abstract and separate them with [SEP] token\n",
        "train['text'] = train['TITLE'] + ' [SEP] ' + train['ABSTRACT']\n",
        "test['text'] = test['TITLE'] + ' [SEP] ' + test['ABSTRACT']"
      ],
      "execution_count": null,
      "outputs": []
    },
    {
      "cell_type": "code",
      "metadata": {
        "id": "R-TjTG9zBES_"
      },
      "source": [
        "TARGET_COLS = ['Computer Science','Physics','Mathematics','Statistics','Quantitative Biology','Quantitative Finance']"
      ],
      "execution_count": null,
      "outputs": []
    },
    {
      "cell_type": "code",
      "metadata": {
        "id": "lpzYAxBX-ac1",
        "outputId": "bc8cdc2b-adde-4d6a-e1db-08ee6d589a4b",
        "colab": {
          "base_uri": "https://localhost:8080/",
          "height": 168,
          "referenced_widgets": [
            "04882fecdabd43648ee7637b18951bb0",
            "e4d225b8456c42efb146c132ec26791b",
            "8b07834b567b479dbda30e80d50bb579",
            "fab4d5120edb4d5b8d05488f3de775b6",
            "7911c244694d4002ab74811aae4099c9",
            "4bbd9cf647c844f190c12f17ad3cd53e",
            "d081f695f88540d1bc5bfcdeaf9f61ab",
            "ef0edfec9fcd42a781d9e59e41116317",
            "98c75a71ec034dc59bcc26dd7b843b3d",
            "2bf5da24ad844032aa4ce29864e39aa1",
            "c6d0f0a4203748a19730d9df5bb174be",
            "0e02966b1d5748bd9ad3b362ce64b7d6",
            "d18df175840745eb9fda74d111aebab2",
            "043b9b6899d945bf9e138bdc13e36811",
            "38f931fcf0514352891dca9a52902af3",
            "441a785048d941618c1b8917482fafa1",
            "18c42afa1ff944de99abbc0b4169ee5a",
            "accb3e2880c641dc9b952162de38f974",
            "53c05d763bd0437c890bd8fc05c2f21d",
            "0e0a262662e4416f90eb2b8ec663529c",
            "054eb09214d84269831f428fa4fcd78a",
            "007f2a8a981b4eff978a769576384c21",
            "07c4b2afc5e64cf18df2772f983fc062",
            "58d707e2034047eb86a050bf296f4a99"
          ]
        }
      },
      "source": [
        "tokenizer = transformers.AutoTokenizer.from_pretrained('allenai/scibert_scivocab_uncased')\n",
        "model = transformers.AutoModel.from_pretrained('allenai/scibert_scivocab_uncased')"
      ],
      "execution_count": null,
      "outputs": [
        {
          "output_type": "display_data",
          "data": {
            "application/vnd.jupyter.widget-view+json": {
              "model_id": "04882fecdabd43648ee7637b18951bb0",
              "version_minor": 0,
              "version_major": 2
            },
            "text/plain": [
              "HBox(children=(FloatProgress(value=0.0, description='Downloading', max=385.0, style=ProgressStyle(description_…"
            ]
          },
          "metadata": {
            "tags": []
          }
        },
        {
          "output_type": "stream",
          "text": [
            "\n"
          ],
          "name": "stdout"
        },
        {
          "output_type": "display_data",
          "data": {
            "application/vnd.jupyter.widget-view+json": {
              "model_id": "98c75a71ec034dc59bcc26dd7b843b3d",
              "version_minor": 0,
              "version_major": 2
            },
            "text/plain": [
              "HBox(children=(FloatProgress(value=0.0, description='Downloading', max=227845.0, style=ProgressStyle(descripti…"
            ]
          },
          "metadata": {
            "tags": []
          }
        },
        {
          "output_type": "stream",
          "text": [
            "\n"
          ],
          "name": "stdout"
        },
        {
          "output_type": "display_data",
          "data": {
            "application/vnd.jupyter.widget-view+json": {
              "model_id": "18c42afa1ff944de99abbc0b4169ee5a",
              "version_minor": 0,
              "version_major": 2
            },
            "text/plain": [
              "HBox(children=(FloatProgress(value=0.0, description='Downloading', max=442221694.0, style=ProgressStyle(descri…"
            ]
          },
          "metadata": {
            "tags": []
          }
        },
        {
          "output_type": "stream",
          "text": [
            "\n"
          ],
          "name": "stdout"
        }
      ]
    },
    {
      "cell_type": "markdown",
      "metadata": {
        "id": "h3BzMAxDFLAI"
      },
      "source": [
        "##Choosing Sequence Length"
      ]
    },
    {
      "cell_type": "code",
      "metadata": {
        "id": "KA43jBl3FD5F"
      },
      "source": [
        "token_lens = []\n",
        "\n",
        "for text in train.ABSTRACT:\n",
        "  tokens = tokenizer.encode(text, max_length=512)\n",
        "  token_lens.append(len(tokens))"
      ],
      "execution_count": null,
      "outputs": []
    },
    {
      "cell_type": "code",
      "metadata": {
        "id": "v7bU_0RLFcWp",
        "outputId": "b7a49913-11ec-4e71-aa46-f3dab702c60c",
        "colab": {
          "base_uri": "https://localhost:8080/",
          "height": 340
        }
      },
      "source": [
        "sns.distplot(token_lens)"
      ],
      "execution_count": null,
      "outputs": [
        {
          "output_type": "stream",
          "text": [
            "/usr/local/lib/python3.6/dist-packages/seaborn/distributions.py:2551: FutureWarning: `distplot` is a deprecated function and will be removed in a future version. Please adapt your code to use either `displot` (a figure-level function with similar flexibility) or `histplot` (an axes-level function for histograms).\n",
            "  warnings.warn(msg, FutureWarning)\n"
          ],
          "name": "stderr"
        },
        {
          "output_type": "execute_result",
          "data": {
            "text/plain": [
              "<matplotlib.axes._subplots.AxesSubplot at 0x7f9881a291d0>"
            ]
          },
          "metadata": {
            "tags": []
          },
          "execution_count": 55
        },
        {
          "output_type": "display_data",
          "data": {
            "image/png": "[encoded data removed]",
            "text/plain": [
              "<Figure size 432x288 with 1 Axes>"
            ]
          },
          "metadata": {
            "tags": [],
            "needs_background": "light"
          }
        }
      ]
    },
    {
      "cell_type": "markdown",
      "metadata": {
        "id": "tqzsfCFephc0"
      },
      "source": [
        "#Article Dataset"
      ]
    },
    {
      "cell_type": "code",
      "metadata": {
        "id": "TC8Tp90ZFyL5"
      },
      "source": [
        "class ArticleDataset(Dataset):\n",
        "\n",
        "  def __init__(self, text, target_columns, tokenizer, max_len):\n",
        "    self.text = text\n",
        "    self.target_columns = target_columns,\n",
        "    self.tokenizer = tokenizer,\n",
        "    self.max_len = max_len\n",
        "\n",
        "  def __len__(self):\n",
        "    return len(self.text)\n",
        "  \n",
        "  def __getitem__(self, item):\n",
        "    text = str(self.text[item])\n",
        "\n",
        "    encoding = tokenizer.encode_plus(\n",
        "      text,\n",
        "      max_length = self.max_len,\n",
        "      truncation = True,\n",
        "      add_special_tokens = True,\n",
        "      padding = 'max_length',\n",
        "      return_attention_mask=True,\n",
        "      return_token_type_ids=False,\n",
        "      return_tensors='pt'\n",
        "    )\n",
        "    \n",
        "    output = {}\n",
        "        \n",
        "    output['cs'] = self.target_columns[0][item][0]\n",
        "    output['phy'] = self.target_columns[0][item][1]        \n",
        "    output['math'] = self.target_columns[0][item][2]      \n",
        "    output['stat'] = self.target_columns[0][item][3]      \n",
        "    output['qbio'] = self.target_columns[0][item][4]              \n",
        "    output['qfin'] = self.target_columns[0][item][5]\n",
        "\n",
        "    return {\n",
        "      'text': text,\n",
        "      'input_ids': encoding['input_ids'].flatten(),\n",
        "      'attention_mask': encoding['attention_mask'].flatten(),\n",
        "      'targets': output\n",
        "    }"
      ],
      "execution_count": null,
      "outputs": []
    },
    {
      "cell_type": "code",
      "metadata": {
        "id": "oqYS7J_zKRFh"
      },
      "source": [
        "MAX_LEN = 250\n",
        "BATCH_SIZE = 16\n",
        "EPOCHS = 4"
      ],
      "execution_count": 9,
      "outputs": []
    },
    {
      "cell_type": "markdown",
      "metadata": {
        "id": "Kq09u8BCpovA"
      },
      "source": [
        "#Perform Stratified K-Fold"
      ]
    },
    {
      "cell_type": "code",
      "metadata": {
        "id": "ql2XgH1oSbYH"
      },
      "source": [
        "folds = MultilabelStratifiedKFold(n_splits=5, random_state=100,shuffle=True)\n",
        "folds = [(x,y) for x,y in folds.split(train['ID'],train[['Computer Science','Physics','Mathematics','Statistics','Quantitative Biology','Quantitative Finance']])]"
      ],
      "execution_count": null,
      "outputs": []
    },
    {
      "cell_type": "code",
      "metadata": {
        "id": "cVkl_oPrSx7g",
        "outputId": "8045e0b6-91d8-4e11-9374-5c9f13040cde",
        "colab": {
          "base_uri": "https://localhost:8080/",
          "height": 35
        }
      },
      "source": [
        "[(len(x),len(y)) for x,y in folds]"
      ],
      "execution_count": null,
      "outputs": [
        {
          "output_type": "execute_result",
          "data": {
            "text/plain": [
              "[(16768, 4204), (16787, 4185), (16767, 4205), (16810, 4162), (16756, 4216)]"
            ]
          },
          "metadata": {
            "tags": []
          },
          "execution_count": 12
        }
      ]
    },
    {
      "cell_type": "code",
      "metadata": {
        "id": "G854L-DPVUwc"
      },
      "source": [
        "def create_data_loader(df, tokenizer, max_len, batch_size):\n",
        "  ds = ArticleDataset(\n",
        "      text = df.text.to_numpy(),\n",
        "      target_columns = df[TARGET_COLS].to_numpy(),\n",
        "      tokenizer = tokenizer,\n",
        "      max_len = max_len\n",
        "  )\n",
        "\n",
        "  return DataLoader(\n",
        "      ds,\n",
        "      batch_size = batch_size,\n",
        "      num_workers = 4\n",
        "  )"
      ],
      "execution_count": null,
      "outputs": []
    },
    {
      "cell_type": "markdown",
      "metadata": {
        "id": "kRLAuAg7gb64"
      },
      "source": [
        "#Building Classifier"
      ]
    },
    {
      "cell_type": "code",
      "metadata": {
        "id": "ZINVDmhugXjT"
      },
      "source": [
        "class ArticleClassifier(nn.Module):\n",
        "\n",
        "  def __init__(self):\n",
        "    super(ArticleClassifier, self).__init__()\n",
        "    self.scibert = transformers.AutoModel.from_pretrained('allenai/scibert_scivocab_uncased')\n",
        "    self.drop = nn.Dropout(p=0.3)\n",
        "\n",
        "    self.cs = nn.Linear(self.scibert.config.hidden_size,2)\n",
        "    self.phy = nn.Linear(self.scibert.config.hidden_size,2)        \n",
        "    self.math = nn.Linear(self.scibert.config.hidden_size,2)        \n",
        "    self.stat = nn.Linear(self.scibert.config.hidden_size,2)        \n",
        "    self.qbio = nn.Linear(self.scibert.config.hidden_size,2)            \n",
        "    self.qfin = nn.Linear(self.scibert.config.hidden_size,2)\n",
        "    self.softmax = nn.Softmax(dim=1)\n",
        "\n",
        "  def forward(self, input_ids, attention_mask):\n",
        "    _, pooled_output = self.scibert(\n",
        "        input_ids = input_ids,\n",
        "        attention_mask = attention_mask\n",
        "    )\n",
        "\n",
        "    pooled_output = self.drop(pooled_output)\n",
        "    \n",
        "    output = {}\n",
        "        \n",
        "    output['cs'] = self.cs(pooled_output)\n",
        "    output['phy'] = self.phy(pooled_output)        \n",
        "    output['math'] = self.math(pooled_output)        \n",
        "    output['stat'] = self.stat(pooled_output)        \n",
        "    output['qbio'] = self.qbio(pooled_output)                \n",
        "    output['qfin'] = self.qfin(pooled_output)     \n",
        "    \n",
        "    return output           "
      ],
      "execution_count": 4,
      "outputs": []
    },
    {
      "cell_type": "code",
      "metadata": {
        "id": "hp_i3jBhj_n-"
      },
      "source": [
        "device = torch.device(\"cuda\")"
      ],
      "execution_count": 5,
      "outputs": []
    },
    {
      "cell_type": "code",
      "metadata": {
        "id": "E8n9TVkHiV66",
        "outputId": "621b86a3-279c-4a27-b919-3985ec0f6755",
        "colab": {
          "base_uri": "https://localhost:8080/",
          "height": 118,
          "referenced_widgets": [
            "a8123a8752814ae38ef3601991244030",
            "183507e12de041a18bbe9fecd943301e",
            "3deb7be58d2b4f4b85e8d4a92aa82289",
            "5719cde83d854105b82acbf11dd5852b",
            "386c79eff605459bb058872903c41c0d",
            "66dba9d5b4084d37949f765dd1077e3d",
            "76a85d0cd5f7402c9d1481a850dc782f",
            "2ce5c9a638b1487ba5c4ef10d27b1732",
            "d33feb83f1d74d0d91c66fe393147c58",
            "f13fa4ce061f4c50ab15f6234dd77a00",
            "cecdb64b07324e5b82c4b4e32b81c0a3",
            "11e3cf8c09494cdb918ff0cb0ae02770",
            "98dd8fb8134c4b7b9da533d53f12ec44",
            "04619736f63b4259bf815bb46c652fd0",
            "d7e9ad7c51fc41449672b37010806928",
            "a22fad6aad2f4e15ba5b6f7bd4e0ee20"
          ]
        }
      },
      "source": [
        "scimodel = ArticleClassifier()\n",
        "scimodel = scimodel.to(device)"
      ],
      "execution_count": 6,
      "outputs": [
        {
          "output_type": "display_data",
          "data": {
            "application/vnd.jupyter.widget-view+json": {
              "model_id": "a8123a8752814ae38ef3601991244030",
              "version_minor": 0,
              "version_major": 2
            },
            "text/plain": [
              "HBox(children=(FloatProgress(value=0.0, description='Downloading', max=385.0, style=ProgressStyle(description_…"
            ]
          },
          "metadata": {
            "tags": []
          }
        },
        {
          "output_type": "stream",
          "text": [
            "\n"
          ],
          "name": "stdout"
        },
        {
          "output_type": "display_data",
          "data": {
            "application/vnd.jupyter.widget-view+json": {
              "model_id": "d33feb83f1d74d0d91c66fe393147c58",
              "version_minor": 0,
              "version_major": 2
            },
            "text/plain": [
              "HBox(children=(FloatProgress(value=0.0, description='Downloading', max=442221694.0, style=ProgressStyle(descri…"
            ]
          },
          "metadata": {
            "tags": []
          }
        },
        {
          "output_type": "stream",
          "text": [
            "\n"
          ],
          "name": "stdout"
        }
      ]
    },
    {
      "cell_type": "markdown",
      "metadata": {
        "id": "tslgG4uNl5WX"
      },
      "source": [
        "#Training"
      ]
    },
    {
      "cell_type": "code",
      "metadata": {
        "id": "R4qeXCWynCz-"
      },
      "source": [
        "def AvgLoss(preds,targets):\n",
        "    loss = nn.CrossEntropyLoss()\n",
        "    return torch.stack([loss(preds[x[0]],targets[x[1]].to(device)) for x in list(zip(preds,targets))]).mean()"
      ],
      "execution_count": null,
      "outputs": []
    },
    {
      "cell_type": "code",
      "metadata": {
        "id": "f36wq8u0pBTs"
      },
      "source": [
        "def train_epoch(scimodel, data_loader, loss_fn, optimizer, scheduler, n_examples):\n",
        "  \n",
        "  scimodel = scimodel.train()\n",
        "\n",
        "  losses = []\n",
        "  correct_predictions = 0\n",
        "\n",
        "  for d in data_loader:\n",
        "    input_ids = d['input_ids'].to(device)\n",
        "    attention_mask = d['attention_mask'].to(device)\n",
        "    targets = d['targets']\n",
        "\n",
        "    outputs = scimodel(\n",
        "        input_ids = input_ids,\n",
        "        attention_mask = attention_mask\n",
        "    )\n",
        "    \n",
        "    _, cs_pred = torch.max(outputs['cs'], dim=1)\n",
        "    _, phy_pred = torch.max(outputs['phy'], dim=1)\n",
        "    _, math_pred = torch.max(outputs['math'], dim=1)\n",
        "    _, stat_pred = torch.max(outputs['stat'], dim=1)\n",
        "    _, qbio_pred = torch.max(outputs['qbio'], dim=1)\n",
        "    _, qfin_pred = torch.max(outputs['qfin'], dim=1)\n",
        "\n",
        "    preds = [cs_pred, phy_pred, math_pred, stat_pred, qbio_pred, qfin_pred]    \n",
        "    \n",
        "    loss = loss_fn(outputs, targets)\n",
        "\n",
        "    for i in range(input_ids.shape[0]):\n",
        "\n",
        "      if(cs_pred[i]==targets['cs'][i] and phy_pred[i]==targets['phy'][i] and math_pred[i]==targets['math'][i]\n",
        "      and stat_pred[i]==targets['stat'][i] and qbio_pred[i]==targets['qbio'][i] and qfin_pred[i]==targets['qfin'][i]):\n",
        "        correct_predictions += 1\n",
        "    \n",
        "    losses.append(loss.item())\n",
        "\n",
        "    loss.backward()\n",
        "\n",
        "    nn.utils.clip_grad_norm_(scimodel.parameters(), max_norm = 1.0)\n",
        "    optimizer.step()\n",
        "    scheduler.step()\n",
        "    optimizer.zero_grad()\n",
        "\n",
        "  return correct_predictions / n_examples, np.mean(losses)"
      ],
      "execution_count": null,
      "outputs": []
    },
    {
      "cell_type": "code",
      "metadata": {
        "id": "sEOS-vElwdJy"
      },
      "source": [
        "def eval_model(scimodel, data_loader, loss_fn, n_examples):\n",
        "  scimodel = scimodel.eval()\n",
        "\n",
        "  losses = []\n",
        "  correct_predictions = 0\n",
        "\n",
        "  with torch.no_grad():\n",
        "    for d in data_loader:\n",
        "      input_ids = d['input_ids'].to(device)\n",
        "      attention_mask = d['attention_mask'].to(device)\n",
        "      targets = d['targets']\n",
        "\n",
        "      outputs = scimodel(\n",
        "          input_ids = input_ids,\n",
        "          attention_mask = attention_mask\n",
        "      )\n",
        "\n",
        "      _, cs_pred = torch.max(outputs['cs'], dim=1)\n",
        "      _, phy_pred = torch.max(outputs['phy'], dim=1)\n",
        "      _, math_pred = torch.max(outputs['math'], dim=1)\n",
        "      _, stat_pred = torch.max(outputs['stat'], dim=1)\n",
        "      _, qbio_pred = torch.max(outputs['qbio'], dim=1)\n",
        "      _, qfin_pred = torch.max(outputs['qfin'], dim=1)\n",
        "\n",
        "      preds = [cs_pred, phy_pred, math_pred, stat_pred, qbio_pred, qfin_pred]    \n",
        "      \n",
        "      loss = loss_fn(outputs, targets)\n",
        "\n",
        "      for i in range(input_ids.shape[0]):\n",
        "        if(cs_pred[i]==targets['cs'][i] and phy_pred[i]==targets['phy'][i] and math_pred[i]==targets['math'][i]\n",
        "        and stat_pred[i]==targets['stat'][i] and qbio_pred[i]==targets['qbio'][i] and qfin_pred[i]==targets['qfin'][i]):\n",
        "          correct_predictions += 1\n",
        "\n",
        "      losses.append(loss.item())\n",
        "  \n",
        "  return correct_predictions / n_examples, np.mean(losses)"
      ],
      "execution_count": null,
      "outputs": []
    },
    {
      "cell_type": "code",
      "metadata": {
        "id": "ZDNSs0oPxJy4",
        "outputId": "d8be79ce-c910-4741-a744-13d347a6a48a",
        "colab": {
          "base_uri": "https://localhost:8080/",
          "height": 1000
        }
      },
      "source": [
        "%%time\n",
        "\n",
        "for i in tqdm(range(len(folds))):\n",
        "  df_train =  train.iloc[folds[i][0]]\n",
        "  df_val =  train.iloc[folds[i][1]]\n",
        "\n",
        "  train_data_loader = create_data_loader(df_train, tokenizer, MAX_LEN, BATCH_SIZE)\n",
        "  val_data_loader = create_data_loader(df_val, tokenizer, MAX_LEN, BATCH_SIZE)\n",
        "\n",
        "  history = defaultdict(list)\n",
        "  best_accuracy = 0\n",
        "\n",
        "  optimizer = optim.AdamW(scimodel.parameters(), lr=2e-5)\n",
        "\n",
        "  total_steps = len(train_data_loader) * EPOCHS\n",
        "\n",
        "  scheduler = transformers.get_linear_schedule_with_warmup(\n",
        "      optimizer,\n",
        "      num_warmup_steps = 0,\n",
        "      num_training_steps = total_steps\n",
        "  )\n",
        "\n",
        "  for epoch in tqdm(range(EPOCHS)):\n",
        "\n",
        "    print(f'Epoch {epoch+1}/{EPOCHS}')\n",
        "    print('-' * 10)\n",
        "\n",
        "    train_acc, train_loss = train_epoch(\n",
        "        scimodel,\n",
        "        train_data_loader,\n",
        "        AvgLoss,\n",
        "        optimizer,\n",
        "        scheduler,\n",
        "        len(df_train)\n",
        "    )\n",
        "\n",
        "    print(f'Train loss {train_loss} accuracy {train_acc}')\n",
        "\n",
        "    val_acc, val_loss = eval_model(\n",
        "        scimodel,\n",
        "        val_data_loader,\n",
        "        AvgLoss,\n",
        "        len(df_val)\n",
        "    )\n",
        "\n",
        "    print(f'Val   loss {val_loss} accuracy {val_acc}')\n",
        "    print()\n",
        "\n",
        "    history['train_acc'+str(i)].append(train_acc)\n",
        "    history['train_loss'+str(i)].append(train_loss)\n",
        "\n",
        "    history['val_acc'+str(i)].append(val_acc)\n",
        "    history['val_loss'+str(i)].append(val_loss)\n",
        "\n",
        "    if val_acc > best_accuracy:\n",
        "      torch.save(scimodel.state_dict(), '/content/drive/My Drive/model'+str(i)+'fold'+str(val_acc)+'.bin')\n",
        "      best_accuracy = val_acc"
      ],
      "execution_count": null,
      "outputs": [
        {
          "output_type": "stream",
          "text": [
            "\n",
            "\n",
            "  0%|          | 0/5 [00:00<?, ?it/s]\u001b[A\u001b[A\n",
            "\n",
            "\n",
            "  0%|          | 0/4 [00:00<?, ?it/s]\u001b[A\u001b[A\u001b[A"
          ],
          "name": "stderr"
        },
        {
          "output_type": "stream",
          "text": [
            "Epoch 1/4\n",
            "----------\n",
            "Train loss 0.13775270189983302 accuracy 0.7381321564885496\n",
            "Val   loss 0.1576845309920184 accuracy 0.6988582302568982\n",
            "\n"
          ],
          "name": "stdout"
        },
        {
          "output_type": "stream",
          "text": [
            "\n",
            "\n",
            "\n",
            " 25%|██▌       | 1/4 [14:31<43:33, 871.22s/it]\u001b[A\u001b[A\u001b[A"
          ],
          "name": "stderr"
        },
        {
          "output_type": "stream",
          "text": [
            "Epoch 2/4\n",
            "----------\n",
            "Train loss 0.10316613936292021 accuracy 0.7969942748091603\n",
            "Val   loss 0.17567974588206967 accuracy 0.7045670789724072\n",
            "\n"
          ],
          "name": "stdout"
        },
        {
          "output_type": "stream",
          "text": [
            "\n",
            "\n",
            "\n",
            " 50%|█████     | 2/4 [29:03<29:03, 871.54s/it]\u001b[A\u001b[A\u001b[A"
          ],
          "name": "stderr"
        },
        {
          "output_type": "stream",
          "text": [
            "Epoch 3/4\n",
            "----------\n",
            "Train loss 0.07423067382600812 accuracy 0.8519203244274809\n"
          ],
          "name": "stdout"
        },
        {
          "output_type": "stream",
          "text": [
            "\n",
            "\n",
            "\n",
            " 75%|███████▌  | 3/4 [43:33<14:31, 871.11s/it]\u001b[A\u001b[A\u001b[A"
          ],
          "name": "stderr"
        },
        {
          "output_type": "stream",
          "text": [
            "Val   loss 0.19738810749533287 accuracy 0.7014747859181731\n",
            "\n",
            "Epoch 4/4\n",
            "----------\n",
            "Train loss 0.0546558940932439 accuracy 0.8958730916030534\n"
          ],
          "name": "stdout"
        },
        {
          "output_type": "stream",
          "text": [
            "\n",
            "\n",
            "\n",
            "100%|██████████| 4/4 [58:00<00:00, 870.25s/it]\n",
            "\n",
            "\n",
            " 20%|██        | 1/5 [58:01<3:52:04, 3481.02s/it]\u001b[A\u001b[A\n",
            "\n",
            "\n",
            "  0%|          | 0/4 [00:00<?, ?it/s]\u001b[A\u001b[A\u001b[A"
          ],
          "name": "stderr"
        },
        {
          "output_type": "stream",
          "text": [
            "Val   loss 0.21228571237550037 accuracy 0.6969552806850619\n",
            "\n",
            "Epoch 1/4\n",
            "----------\n",
            "Train loss 0.09907908915098579 accuracy 0.822183832727706\n",
            "Val   loss 0.07327417013384686 accuracy 0.8494623655913979\n",
            "\n"
          ],
          "name": "stdout"
        },
        {
          "output_type": "stream",
          "text": [
            "\n",
            "\n",
            "\n",
            " 25%|██▌       | 1/4 [14:30<43:31, 870.40s/it]\u001b[A\u001b[A\u001b[A"
          ],
          "name": "stderr"
        },
        {
          "output_type": "stream",
          "text": [
            "Epoch 2/4\n",
            "----------\n",
            "Train loss 0.06426260092473102 accuracy 0.8824090069696789\n",
            "Val   loss 0.05963768975681249 accuracy 0.8833930704898447\n",
            "\n"
          ],
          "name": "stdout"
        },
        {
          "output_type": "stream",
          "text": [
            "\n",
            "\n",
            "\n",
            " 50%|█████     | 2/4 [29:01<29:01, 870.62s/it]\u001b[A\u001b[A\u001b[A"
          ],
          "name": "stderr"
        },
        {
          "output_type": "stream",
          "text": [
            "Epoch 3/4\n",
            "----------\n",
            "Train loss 0.03906519182292478 accuracy 0.9304223506284625\n"
          ],
          "name": "stdout"
        },
        {
          "output_type": "stream",
          "text": [
            "\n",
            "\n",
            "\n",
            " 75%|███████▌  | 3/4 [43:29<14:29, 869.89s/it]\u001b[A\u001b[A\u001b[A"
          ],
          "name": "stderr"
        },
        {
          "output_type": "stream",
          "text": [
            "Val   loss 0.06061743085365032 accuracy 0.8793309438470729\n",
            "\n",
            "Epoch 4/4\n",
            "----------\n",
            "Train loss 0.024190323230965684 accuracy 0.9609817120390779\n",
            "Val   loss 0.05830262522861888 accuracy 0.8984468339307049\n",
            "\n"
          ],
          "name": "stdout"
        },
        {
          "output_type": "stream",
          "text": [
            "\n",
            "\n",
            "\n",
            "100%|██████████| 4/4 [58:00<00:00, 870.14s/it]\n",
            "\n",
            "\n",
            " 40%|████      | 2/5 [1:56:01<2:54:02, 3480.90s/it]\u001b[A\u001b[A\n",
            "\n",
            "\n",
            "  0%|          | 0/4 [00:00<?, ?it/s]\u001b[A\u001b[A\u001b[A"
          ],
          "name": "stderr"
        },
        {
          "output_type": "stream",
          "text": [
            "Epoch 1/4\n",
            "----------\n",
            "Train loss 0.0493610736027312 accuracy 0.9106578398043776\n",
            "Val   loss 0.023982602353083828 accuracy 0.958858501783591\n",
            "\n"
          ],
          "name": "stdout"
        },
        {
          "output_type": "stream",
          "text": [
            "\n",
            "\n",
            "\n",
            " 25%|██▌       | 1/4 [14:30<43:31, 870.45s/it]\u001b[A\u001b[A\u001b[A"
          ],
          "name": "stderr"
        },
        {
          "output_type": "stream",
          "text": [
            "Epoch 2/4\n",
            "----------\n",
            "Train loss 0.03362137474112332 accuracy 0.936959503787201\n",
            "Val   loss 0.02134587226046901 accuracy 0.9609988109393579\n",
            "\n"
          ],
          "name": "stdout"
        },
        {
          "output_type": "stream",
          "text": [
            "\n",
            "\n",
            "\n",
            " 50%|█████     | 2/4 [29:00<29:00, 870.33s/it]\u001b[A\u001b[A\u001b[A"
          ],
          "name": "stderr"
        },
        {
          "output_type": "stream",
          "text": [
            "Epoch 3/4\n",
            "----------\n",
            "Train loss 0.017204892770844894 accuracy 0.9699409554482018\n",
            "Val   loss 0.019026039187051 accuracy 0.9690844233055886\n",
            "\n"
          ],
          "name": "stdout"
        },
        {
          "output_type": "stream",
          "text": [
            "\n",
            "\n",
            "\n",
            " 75%|███████▌  | 3/4 [43:29<14:29, 869.96s/it]\u001b[A\u001b[A\u001b[A"
          ],
          "name": "stderr"
        },
        {
          "output_type": "stream",
          "text": [
            "Epoch 4/4\n",
            "----------\n",
            "Train loss 0.009198858043370424 accuracy 0.9858054511838731\n",
            "Val   loss 0.014604639949718803 accuracy 0.9752675386444709\n",
            "\n"
          ],
          "name": "stdout"
        },
        {
          "output_type": "stream",
          "text": [
            "\n",
            "\n",
            "\n",
            "100%|██████████| 4/4 [57:57<00:00, 869.47s/it]\n",
            "\n",
            "\n",
            " 60%|██████    | 3/5 [2:53:59<1:56:00, 3480.00s/it]\u001b[A\u001b[A\n",
            "\n",
            "\n",
            "  0%|          | 0/4 [00:00<?, ?it/s]\u001b[A\u001b[A\u001b[A"
          ],
          "name": "stderr"
        },
        {
          "output_type": "stream",
          "text": [
            "Epoch 1/4\n",
            "----------\n",
            "Train loss 0.025598217987800577 accuracy 0.9539559785841761\n",
            "Val   loss 0.009836358922835657 accuracy 0.98246035559827\n",
            "\n"
          ],
          "name": "stdout"
        },
        {
          "output_type": "stream",
          "text": [
            "\n",
            "\n",
            "\n",
            " 25%|██▌       | 1/4 [14:30<43:32, 870.79s/it]\u001b[A\u001b[A\u001b[A"
          ],
          "name": "stderr"
        },
        {
          "output_type": "stream",
          "text": [
            "Epoch 2/4\n",
            "----------\n",
            "Train loss 0.021707168575460456 accuracy 0.9604997025580012\n"
          ],
          "name": "stdout"
        },
        {
          "output_type": "stream",
          "text": [
            "\n",
            "\n",
            "\n",
            " 50%|█████     | 2/4 [28:59<29:00, 870.31s/it]\u001b[A\u001b[A\u001b[A"
          ],
          "name": "stderr"
        },
        {
          "output_type": "stream",
          "text": [
            "Val   loss 0.01111797329118222 accuracy 0.9781355117731859\n",
            "\n",
            "Epoch 3/4\n",
            "----------\n",
            "Train loss 0.010512596375191962 accuracy 0.9806662700773349\n",
            "Val   loss 0.005401551992830042 accuracy 0.9913503123498318\n",
            "\n"
          ],
          "name": "stdout"
        },
        {
          "output_type": "stream",
          "text": [
            "\n",
            "\n",
            "\n",
            " 75%|███████▌  | 3/4 [43:30<14:30, 870.25s/it]\u001b[A\u001b[A\u001b[A"
          ],
          "name": "stderr"
        },
        {
          "output_type": "stream",
          "text": [
            "Epoch 4/4\n",
            "----------\n",
            "Train loss 0.004961572300203984 accuracy 0.9920880428316479\n",
            "Val   loss 0.0032931302266661078 accuracy 0.9951946179721288\n",
            "\n"
          ],
          "name": "stdout"
        },
        {
          "output_type": "stream",
          "text": [
            "\n",
            "\n",
            "\n",
            "100%|██████████| 4/4 [57:58<00:00, 869.70s/it]\n",
            "\n",
            "\n",
            " 80%|████████  | 4/5 [3:51:58<57:59, 3479.65s/it]  \u001b[A\u001b[A\n",
            "\n",
            "\n",
            "  0%|          | 0/4 [00:00<?, ?it/s]\u001b[A\u001b[A\u001b[A"
          ],
          "name": "stderr"
        },
        {
          "output_type": "stream",
          "text": [
            "Epoch 1/4\n",
            "----------\n",
            "Train loss 0.016533290657797673 accuracy 0.9709357841967057\n",
            "Val   loss 0.017870514384633156 accuracy 0.9682163187855788\n",
            "\n"
          ],
          "name": "stdout"
        },
        {
          "output_type": "stream",
          "text": [
            "\n",
            "\n",
            "\n",
            " 25%|██▌       | 1/4 [14:29<43:27, 869.22s/it]\u001b[A\u001b[A\u001b[A"
          ],
          "name": "stderr"
        },
        {
          "output_type": "stream",
          "text": [
            "Epoch 2/4\n",
            "----------\n",
            "Train loss 0.016207563506040207 accuracy 0.9724277870613511\n",
            "Val   loss 0.006195637125832339 accuracy 0.9883776091081594\n",
            "\n"
          ],
          "name": "stdout"
        },
        {
          "output_type": "stream",
          "text": [
            "\n",
            "\n",
            "\n",
            " 50%|█████     | 2/4 [28:58<28:58, 869.23s/it]\u001b[A\u001b[A\u001b[A"
          ],
          "name": "stderr"
        },
        {
          "output_type": "stream",
          "text": [
            "Epoch 3/4\n",
            "----------\n",
            "Train loss 0.007232007009587026 accuracy 0.9862735736452614\n",
            "Val   loss 0.0029903488152878267 accuracy 0.9945445920303605\n",
            "\n"
          ],
          "name": "stdout"
        },
        {
          "output_type": "stream",
          "text": [
            "\n",
            "\n",
            "\n",
            " 75%|███████▌  | 3/4 [43:26<14:28, 868.98s/it]\u001b[A\u001b[A\u001b[A"
          ],
          "name": "stderr"
        },
        {
          "output_type": "stream",
          "text": [
            "Epoch 4/4\n",
            "----------\n",
            "Train loss 0.002512897307399844 accuracy 0.9954046311768918\n",
            "Val   loss 0.0015570751327300748 accuracy 0.9973908918406073\n",
            "\n"
          ],
          "name": "stdout"
        },
        {
          "output_type": "stream",
          "text": [
            "\n",
            "\n",
            "\n",
            "100%|██████████| 4/4 [57:54<00:00, 868.61s/it]\n",
            "\n",
            "\n",
            "100%|██████████| 5/5 [4:49:52<00:00, 3478.57s/it]"
          ],
          "name": "stderr"
        },
        {
          "output_type": "stream",
          "text": [
            "CPU times: user 2h 47min 34s, sys: 1h 59min 39s, total: 4h 47min 13s\n",
            "Wall time: 4h 49min 52s\n"
          ],
          "name": "stdout"
        },
        {
          "output_type": "stream",
          "text": [
            "\n"
          ],
          "name": "stderr"
        }
      ]
    },
    {
      "cell_type": "markdown",
      "metadata": {
        "id": "pCJg5agPrWPo"
      },
      "source": [
        "#Sample Text Prediction"
      ]
    },
    {
      "cell_type": "code",
      "metadata": {
        "id": "vMUa3_LuVUfO"
      },
      "source": [
        "sample_text = \"While \\\n",
        "basic regression models have long been the dominant method of statistical \\\n",
        "adjustment, more robust methods based on matching or weighting have become more \\\n",
        "common.\""
      ],
      "execution_count": 23,
      "outputs": []
    },
    {
      "cell_type": "code",
      "metadata": {
        "id": "V2N45y1q9soc"
      },
      "source": [
        "tokenizer = transformers.AutoTokenizer.from_pretrained('allenai/scibert_scivocab_uncased')\n",
        "\n",
        "encoding = tokenizer.encode_plus(\n",
        "    sample_text,\n",
        "    max_length = MAX_LEN,\n",
        "    truncation = True,\n",
        "    add_special_tokens = True,\n",
        "    padding = 'max_length',\n",
        "    return_attention_mask=True,\n",
        "    return_token_type_ids=False,\n",
        "    return_tensors='pt'\n",
        ")\n",
        "\n",
        "device = 'cuda'\n",
        "\n",
        "input_ids = encoding['input_ids'].to(device)\n",
        "attention_mask = encoding['attention_mask'].to(device)"
      ],
      "execution_count": 10,
      "outputs": []
    },
    {
      "cell_type": "code",
      "metadata": {
        "id": "kJ6y_W3O-LGJ"
      },
      "source": [
        "scimodel = ArticleClassifier()\n",
        "\n",
        "scimodel.load_state_dict(torch.load('/content/drive/My Drive/model4fold0.98.bin'))\n",
        "scimodel = scimodel.to(device)\n",
        "\n",
        "output = scimodel(\n",
        "    input_ids = input_ids,\n",
        "    attention_mask = attention_mask\n",
        ")\n",
        "\n",
        "for item,value in output.items():\n",
        "  _ , output[item] = torch.max(output[item], dim=1)\n",
        "  output[item] = int(output[item])"
      ],
      "execution_count": 21,
      "outputs": []
    },
    {
      "cell_type": "code",
      "metadata": {
        "id": "vmn2v7AG-LcR",
        "outputId": "6169918f-7dd2-41ae-98b1-d0b4b1505739",
        "colab": {
          "base_uri": "https://localhost:8080/",
          "height": 35
        }
      },
      "source": [
        "output"
      ],
      "execution_count": 22,
      "outputs": [
        {
          "output_type": "execute_result",
          "data": {
            "text/plain": [
              "{'cs': 0, 'math': 0, 'phy': 0, 'qbio': 0, 'qfin': 0, 'stat': 1}"
            ]
          },
          "metadata": {
            "tags": []
          },
          "execution_count": 22
        }
      ]
    }
  ]
}